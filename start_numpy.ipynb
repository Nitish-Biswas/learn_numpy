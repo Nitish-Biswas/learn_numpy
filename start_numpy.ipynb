{
 "cells": [
  {
   "cell_type": "code",
   "execution_count": 2,
   "id": "2c8eae76-ee89-481a-9e6c-24d25128222c",
   "metadata": {},
   "outputs": [],
   "source": [
    "import numpy as np"
   ]
  },
  {
   "cell_type": "markdown",
   "id": "1f863958-4cad-4af0-a808-6604bfd351c8",
   "metadata": {},
   "source": [
    "<h1>The Basics</h1>"
   ]
  },
  {
   "cell_type": "code",
   "execution_count": 28,
   "id": "bf062670-e429-446c-8261-566c676ebc68",
   "metadata": {},
   "outputs": [
    {
     "name": "stdout",
     "output_type": "stream",
     "text": [
      "[1 2 3]\n"
     ]
    }
   ],
   "source": [
    "a = np.array([1,2,3],dtype=\"int8\")\n",
    "print(a)"
   ]
  },
  {
   "cell_type": "code",
   "execution_count": 39,
   "id": "0478b8b3-856d-4c9f-9a3e-da86e82b01ba",
   "metadata": {},
   "outputs": [
    {
     "name": "stdout",
     "output_type": "stream",
     "text": [
      "[[9. 8. 7.]\n",
      " [6. 5. 4.]]\n"
     ]
    }
   ],
   "source": [
    "b = np.array([[9.0,8.0,7.0],[6.0,5.0,4.0]], dtype=\"float16\")\n",
    "print(b)"
   ]
  },
  {
   "cell_type": "code",
   "execution_count": 11,
   "id": "47d2b4bf-06c4-4ec2-bcd0-3ccbc6956685",
   "metadata": {},
   "outputs": [
    {
     "data": {
      "text/plain": [
       "1"
      ]
     },
     "execution_count": 11,
     "metadata": {},
     "output_type": "execute_result"
    }
   ],
   "source": [
    "#get Dimension\n",
    "a.ndim"
   ]
  },
  {
   "cell_type": "code",
   "execution_count": 12,
   "id": "fcdd37b0-6a79-4b2c-96ea-f528728105b4",
   "metadata": {},
   "outputs": [
    {
     "data": {
      "text/plain": [
       "(2, 3)"
      ]
     },
     "execution_count": 12,
     "metadata": {},
     "output_type": "execute_result"
    }
   ],
   "source": [
    "#get Shape\n",
    "b.shape"
   ]
  },
  {
   "cell_type": "code",
   "execution_count": 37,
   "id": "d43109ba-cbac-47e7-8769-6b6dff6b74be",
   "metadata": {},
   "outputs": [
    {
     "data": {
      "text/plain": [
       "dtype('float64')"
      ]
     },
     "execution_count": 37,
     "metadata": {},
     "output_type": "execute_result"
    }
   ],
   "source": [
    "# Get Type\n",
    "a.dtype\n",
    "b.dtype"
   ]
  },
  {
   "cell_type": "code",
   "execution_count": 32,
   "id": "609d2d5f-d7ee-4fd4-8a30-42585a2975a5",
   "metadata": {},
   "outputs": [
    {
     "data": {
      "text/plain": [
       "1"
      ]
     },
     "execution_count": 32,
     "metadata": {},
     "output_type": "execute_result"
    }
   ],
   "source": [
    "#Get size of an element, no of bytes consumed by a element\n",
    "a.itemsize\n",
    "b.itemsize"
   ]
  },
  {
   "cell_type": "code",
   "execution_count": 29,
   "id": "523744fc-2188-4186-9361-9f58cbe8b770",
   "metadata": {},
   "outputs": [
    {
     "data": {
      "text/plain": [
       "3"
      ]
     },
     "execution_count": 29,
     "metadata": {},
     "output_type": "execute_result"
    }
   ],
   "source": [
    "#Get total size of the array\n",
    "a.nbytes"
   ]
  },
  {
   "cell_type": "markdown",
   "id": "c34a496a-f397-493d-b7cc-b4569baa3ca6",
   "metadata": {},
   "source": [
    "<h1>Accessing/Changing specific elements, rows, columns, etc</h1>"
   ]
  },
  {
   "cell_type": "code",
   "execution_count": 57,
   "id": "db449962-1e24-4cd4-879e-d20968227982",
   "metadata": {},
   "outputs": [
    {
     "name": "stdout",
     "output_type": "stream",
     "text": [
      "[[ 1  2  3  4  5  6  7]\n",
      " [ 8  9 10 11 12 13 14]]\n"
     ]
    }
   ],
   "source": [
    "a = np.array([[1,2,3,4,5,6,7],[8,9,10,11,12,13,14]])\n",
    "print(a)"
   ]
  },
  {
   "cell_type": "code",
   "execution_count": 58,
   "id": "15cf3264-76c0-4fe6-90bf-f3a2467f2013",
   "metadata": {},
   "outputs": [
    {
     "data": {
      "text/plain": [
       "(2, 7)"
      ]
     },
     "execution_count": 58,
     "metadata": {},
     "output_type": "execute_result"
    }
   ],
   "source": [
    "a.shape"
   ]
  },
  {
   "cell_type": "code",
   "execution_count": 59,
   "id": "c6fef794-f9b6-4298-a88a-9050da2ebb2a",
   "metadata": {},
   "outputs": [
    {
     "data": {
      "text/plain": [
       "np.int64(13)"
      ]
     },
     "execution_count": 59,
     "metadata": {},
     "output_type": "execute_result"
    }
   ],
   "source": [
    "#get a specific element at [r, c]c\n",
    "#gives a wrapper as output\n",
    "a[1, 5]"
   ]
  },
  {
   "cell_type": "code",
   "execution_count": 60,
   "id": "c2748a4f-e98d-4694-822a-43a07b7aa28a",
   "metadata": {},
   "outputs": [
    {
     "data": {
      "text/plain": [
       "13"
      ]
     },
     "execution_count": 60,
     "metadata": {},
     "output_type": "execute_result"
    }
   ],
   "source": [
    "# if want direct value as output\n",
    "a[1, 5].item()"
   ]
  },
  {
   "cell_type": "code",
   "execution_count": 66,
   "id": "5bc24614-18d3-4e51-b38a-79a0835a4b34",
   "metadata": {},
   "outputs": [
    {
     "data": {
      "text/plain": [
       "array([ 8,  9, 10, 11, 12, 13, 14])"
      ]
     },
     "execution_count": 66,
     "metadata": {},
     "output_type": "execute_result"
    }
   ],
   "source": [
    "# Get a specific row\n",
    "a[1,:]"
   ]
  },
  {
   "cell_type": "code",
   "execution_count": 65,
   "id": "1837bf4f-c542-4959-80be-21ece918ed9c",
   "metadata": {},
   "outputs": [
    {
     "data": {
      "text/plain": [
       "array([ 5, 12])"
      ]
     },
     "execution_count": 65,
     "metadata": {},
     "output_type": "execute_result"
    }
   ],
   "source": [
    "#GEt a specific column\n",
    "a[:,4]"
   ]
  },
  {
   "cell_type": "code",
   "execution_count": 64,
   "id": "c4e03ab8-d6d9-40ce-a173-640c7336558c",
   "metadata": {},
   "outputs": [
    {
     "data": {
      "text/plain": [
       "array([2, 4])"
      ]
     },
     "execution_count": 64,
     "metadata": {},
     "output_type": "execute_result"
    }
   ],
   "source": [
    "#Getting in step manner [startindex:endindex:stepsize]\n",
    "a[0, 1:4:2]"
   ]
  },
  {
   "cell_type": "code",
   "execution_count": 67,
   "id": "a8c8bfbc-1945-4937-b760-3d3d61b71b98",
   "metadata": {},
   "outputs": [
    {
     "data": {
      "text/plain": [
       "array([7, 6, 5, 4, 3, 2, 1])"
      ]
     },
     "execution_count": 67,
     "metadata": {},
     "output_type": "execute_result"
    }
   ],
   "source": [
    "#reverse a sepcific row\n",
    "a[0, ::-1]"
   ]
  },
  {
   "cell_type": "code",
   "execution_count": 69,
   "id": "b8e61362-8bdb-4e1b-a334-f11435b97cfc",
   "metadata": {},
   "outputs": [
    {
     "data": {
      "text/plain": [
       "array([12,  5])"
      ]
     },
     "execution_count": 69,
     "metadata": {},
     "output_type": "execute_result"
    }
   ],
   "source": [
    "#reverse a specific column\n",
    "a[::-1,4]"
   ]
  },
  {
   "cell_type": "code",
   "execution_count": 71,
   "id": "66e33bda-601a-4bd0-b9bb-3232f9e84139",
   "metadata": {},
   "outputs": [
    {
     "data": {
      "text/plain": [
       "array([[ 1,  2,  3,  4,  5,  6,  7],\n",
       "       [ 8,  9, 10, 34, 12, 13, 14]])"
      ]
     },
     "execution_count": 71,
     "metadata": {},
     "output_type": "execute_result"
    }
   ],
   "source": [
    "#change a element\n",
    "a[1,3]=34\n",
    "a"
   ]
  },
  {
   "cell_type": "code",
   "execution_count": 73,
   "id": "a548f6f4-0bd1-485d-b937-e6af50f9850d",
   "metadata": {},
   "outputs": [
    {
     "data": {
      "text/plain": [
       "array([[ 1,  2,  3,  4, 36,  6,  7],\n",
       "       [ 8,  9, 10, 34, 64, 13, 14]])"
      ]
     },
     "execution_count": 73,
     "metadata": {},
     "output_type": "execute_result"
    }
   ],
   "source": [
    "#change a column\n",
    "a[:,4]=[36,64]\n",
    "a"
   ]
  },
  {
   "cell_type": "code",
   "execution_count": 77,
   "id": "1405b27a-4cbf-4573-9450-465e8682a929",
   "metadata": {},
   "outputs": [
    {
     "name": "stdout",
     "output_type": "stream",
     "text": [
      "[[[1 2]\n",
      "  [3 4]\n",
      "  [3 4]]\n",
      "\n",
      " [[5 6]\n",
      "  [5 6]\n",
      "  [7 8]]]\n",
      "[[1 5]\n",
      " [2 6]\n",
      " [3 7]\n",
      " [4 8]]\n",
      "<numpy.flatiter object at 0x11a076800>\n",
      "1\n",
      "2\n",
      "3\n",
      "4\n",
      "5\n",
      "6\n",
      "7\n",
      "8\n"
     ]
    }
   ],
   "source": [
    "#3D example\n",
    "b = np.array([[[1,2],[3,4],[3,4]],[[5,6],[5,6],[7,8]]])\n",
    "print(b)\n",
    "print(arr.T)\n",
    "print(arr.flat)\n",
    "for i in arr.flat:\n",
    "    print(i)"
   ]
  },
  {
   "cell_type": "code",
   "execution_count": 75,
   "id": "44fc0a5f-1590-4da0-bbeb-f085e599eaff",
   "metadata": {},
   "outputs": [
    {
     "data": {
      "text/plain": [
       "np.int64(5)"
      ]
     },
     "execution_count": 75,
     "metadata": {},
     "output_type": "execute_result"
    }
   ],
   "source": [
    "#Get a specific element \n",
    "b[1,0,0]"
   ]
  },
  {
   "cell_type": "code",
   "execution_count": 81,
   "id": "267f373f-b7ee-44e0-950d-0a98fee344d8",
   "metadata": {},
   "outputs": [
    {
     "data": {
      "text/plain": [
       "(2, 3, 2)"
      ]
     },
     "execution_count": 81,
     "metadata": {},
     "output_type": "execute_result"
    }
   ],
   "source": [
    "b.shape"
   ]
  },
  {
   "cell_type": "code",
   "execution_count": 83,
   "id": "da114432-f718-47a7-b0e1-33869c7a985e",
   "metadata": {},
   "outputs": [
    {
     "data": {
      "text/plain": [
       "array([[1, 3, 3],\n",
       "       [5, 5, 7]])"
      ]
     },
     "execution_count": 83,
     "metadata": {},
     "output_type": "execute_result"
    }
   ],
   "source": [
    "b[:,:,0] #shape help to find how many elements and in which manner i will get after slicing like b[1,:,0] will give 3 elements array as shape is 3 at 2 level\n"
   ]
  },
  {
   "cell_type": "code",
   "execution_count": 85,
   "id": "db7854ef-06d6-4032-8476-f211e33e2634",
   "metadata": {},
   "outputs": [
    {
     "data": {
      "text/plain": [
       "array([[[11, 22],\n",
       "        [ 3,  4],\n",
       "        [ 3,  4]],\n",
       "\n",
       "       [[33, 44],\n",
       "        [ 5,  6],\n",
       "        [ 7,  8]]])"
      ]
     },
     "execution_count": 85,
     "metadata": {},
     "output_type": "execute_result"
    }
   ],
   "source": [
    "#shape will also help in replace\n",
    "b[:,0,:]= [[11,22],[33,44]]\n",
    "b"
   ]
  },
  {
   "cell_type": "code",
   "execution_count": 72,
   "id": "37cdad18-83a2-469e-9cc9-50752938c3dc",
   "metadata": {},
   "outputs": [
    {
     "data": {
      "text/plain": [
       "array([1. , 2.2, 3.4, 4.6, 5.8, 7. ])"
      ]
     },
     "execution_count": 72,
     "metadata": {},
     "output_type": "execute_result"
    }
   ],
   "source": [
    "np.linspace(1,7,6)"
   ]
  },
  {
   "cell_type": "code",
   "execution_count": 74,
   "id": "589ffa6a-149c-440a-aec7-89dc395ee88f",
   "metadata": {},
   "outputs": [
    {
     "data": {
      "text/plain": [
       "array([1, 2, 3, 4, 5])"
      ]
     },
     "execution_count": 74,
     "metadata": {},
     "output_type": "execute_result"
    }
   ],
   "source": [
    "np.arange(1,6)"
   ]
  },
  {
   "cell_type": "code",
   "execution_count": 88,
   "id": "272c1a43-f92f-4680-908e-d30e2c62788f",
   "metadata": {},
   "outputs": [
    {
     "data": {
      "text/plain": [
       "array([[0, 0, 0, 0, 0, 0],\n",
       "       [0, 0, 0, 0, 0, 0],\n",
       "       [0, 0, 0, 0, 0, 0]], dtype=int8)"
      ]
     },
     "execution_count": 88,
     "metadata": {},
     "output_type": "execute_result"
    }
   ],
   "source": [
    "#All 0s matrix\n",
    "np.zeros((3,6),dtype=\"int8\")"
   ]
  },
  {
   "cell_type": "code",
   "execution_count": 91,
   "id": "717ca55a-fcfc-4e96-956f-a465dde2aac6",
   "metadata": {},
   "outputs": [
    {
     "data": {
      "text/plain": [
       "array([[[1, 1, 1],\n",
       "        [1, 1, 1],\n",
       "        [1, 1, 1],\n",
       "        [1, 1, 1],\n",
       "        [1, 1, 1],\n",
       "        [1, 1, 1]],\n",
       "\n",
       "       [[1, 1, 1],\n",
       "        [1, 1, 1],\n",
       "        [1, 1, 1],\n",
       "        [1, 1, 1],\n",
       "        [1, 1, 1],\n",
       "        [1, 1, 1]],\n",
       "\n",
       "       [[1, 1, 1],\n",
       "        [1, 1, 1],\n",
       "        [1, 1, 1],\n",
       "        [1, 1, 1],\n",
       "        [1, 1, 1],\n",
       "        [1, 1, 1]]], dtype=int8)"
      ]
     },
     "execution_count": 91,
     "metadata": {},
     "output_type": "execute_result"
    }
   ],
   "source": [
    "#All 1s matrix\n",
    "np.ones((3,6,3), dtype=\"int8\")"
   ]
  },
  {
   "cell_type": "code",
   "execution_count": 93,
   "id": "44c0d925-b310-4d42-b289-2d048daa1def",
   "metadata": {},
   "outputs": [
    {
     "data": {
      "text/plain": [
       "array([[[8, 8],\n",
       "        [8, 8],\n",
       "        [8, 8]],\n",
       "\n",
       "       [[8, 8],\n",
       "        [8, 8],\n",
       "        [8, 8]],\n",
       "\n",
       "       [[8, 8],\n",
       "        [8, 8],\n",
       "        [8, 8]],\n",
       "\n",
       "       [[8, 8],\n",
       "        [8, 8],\n",
       "        [8, 8]]], dtype=int8)"
      ]
     },
     "execution_count": 93,
     "metadata": {},
     "output_type": "execute_result"
    }
   ],
   "source": [
    "#Any other number\n",
    "np.full((4,3,2), 8, dtype=\"int8\")"
   ]
  },
  {
   "cell_type": "code",
   "execution_count": 94,
   "id": "6a473102-5cc7-4d12-a67a-932d6012b13b",
   "metadata": {},
   "outputs": [
    {
     "data": {
      "text/plain": [
       "array([[[9, 9],\n",
       "        [9, 9],\n",
       "        [9, 9]],\n",
       "\n",
       "       [[9, 9],\n",
       "        [9, 9],\n",
       "        [9, 9]]], dtype=int8)"
      ]
     },
     "execution_count": 94,
     "metadata": {},
     "output_type": "execute_result"
    }
   ],
   "source": [
    "#make array of any number like the structure of any other array ( using full)\n",
    "np.full(b.shape, 9, dtype=\"int8\")"
   ]
  },
  {
   "cell_type": "code",
   "execution_count": 107,
   "id": "311b2f0b-8515-4071-bde8-8213ac838d2f",
   "metadata": {},
   "outputs": [
    {
     "data": {
      "text/plain": [
       "array([[[0.54789514, 0.3176137 , 0.39038832, 0.6681817 , 0.30037506,\n",
       "         0.96013756],\n",
       "        [0.72507011, 0.99430689, 0.52389866, 0.51761852, 0.31181099,\n",
       "         0.91174458],\n",
       "        [0.57763731, 0.73749021, 0.57312756, 0.51846286, 0.96907848,\n",
       "         0.70603836]],\n",
       "\n",
       "       [[0.10122468, 0.88634965, 0.49208658, 0.75334738, 0.04966458,\n",
       "         0.9890421 ],\n",
       "        [0.93598007, 0.96465125, 0.02338013, 0.50812804, 0.0513929 ,\n",
       "         0.32384924],\n",
       "        [0.16385659, 0.93653701, 0.04928865, 0.66193445, 0.74087372,\n",
       "         0.35658265]],\n",
       "\n",
       "       [[0.10686338, 0.77098408, 0.2199223 , 0.30209295, 0.15219758,\n",
       "         0.22514339],\n",
       "        [0.0285622 , 0.688087  , 0.85635188, 0.68074357, 0.87383881,\n",
       "         0.03526291],\n",
       "        [0.07564336, 0.64297642, 0.48510581, 0.25835425, 0.58973579,\n",
       "         0.89227983]],\n",
       "\n",
       "       [[0.49939319, 0.72294187, 0.10664135, 0.311788  , 0.25368197,\n",
       "         0.09129042],\n",
       "        [0.45748391, 0.09070172, 0.15556095, 0.17467839, 0.38369748,\n",
       "         0.18520852],\n",
       "        [0.0813943 , 0.88523081, 0.62214633, 0.44438889, 0.88522122,\n",
       "         0.23135809]],\n",
       "\n",
       "       [[0.66596475, 0.75395831, 0.25047063, 0.37525521, 0.32949369,\n",
       "         0.67044424],\n",
       "        [0.31117708, 0.85219184, 0.15277571, 0.33790309, 0.24812961,\n",
       "         0.52086815],\n",
       "        [0.8666079 , 0.02852705, 0.787675  , 0.61481945, 0.88418611,\n",
       "         0.03907511]]])"
      ]
     },
     "execution_count": 107,
     "metadata": {},
     "output_type": "execute_result"
    }
   ],
   "source": [
    "#Random decimal numbers\n",
    "np.random.rand(5,3,6).astype(np.float64)\n",
    "#also can use other array shape for this"
   ]
  },
  {
   "cell_type": "code",
   "execution_count": 114,
   "id": "4f962c34-95f8-448b-b320-548edcc22b36",
   "metadata": {},
   "outputs": [
    {
     "data": {
      "text/plain": [
       "array([[0.78130245, 0.12662227, 0.9556252 , 0.5049425 ],\n",
       "       [0.04322064, 0.19786824, 0.24719617, 0.22644532],\n",
       "       [0.01537819, 0.19936414, 0.954489  , 0.13708511]], dtype=float32)"
      ]
     },
     "execution_count": 114,
     "metadata": {},
     "output_type": "execute_result"
    }
   ],
   "source": [
    "# creates 5 random numbers from a uniform distribution between 0 and 1\n",
    "np.random.uniform(0,1, size = (3,4)).astype(np.float32)"
   ]
  },
  {
   "cell_type": "code",
   "execution_count": 110,
   "id": "392e7cda-f402-4db2-a8be-221e04f31c33",
   "metadata": {},
   "outputs": [
    {
     "data": {
      "text/plain": [
       "array([[[9, 9],\n",
       "        [9, 9],\n",
       "        [9, 9]],\n",
       "\n",
       "       [[9, 9],\n",
       "        [9, 9],\n",
       "        [9, 9]]], dtype=int8)"
      ]
     },
     "execution_count": 110,
     "metadata": {},
     "output_type": "execute_result"
    }
   ],
   "source": [
    "#make array of any number like the structure of any other array ( using full_like)\n",
    "np.full_like(b, 9, dtype=\"int8\")"
   ]
  },
  {
   "cell_type": "code",
   "execution_count": 112,
   "id": "a671cffb-44d2-454b-84af-644b1dcdeea4",
   "metadata": {},
   "outputs": [
    {
     "data": {
      "text/plain": [
       "array([[[3, 7, 7, 5, 4, 7],\n",
       "        [7, 7, 6, 7, 5, 7],\n",
       "        [7, 5, 6, 5, 4, 6],\n",
       "        [4, 5, 7, 7, 4, 4]],\n",
       "\n",
       "       [[5, 6, 3, 6, 4, 4],\n",
       "        [6, 7, 4, 7, 6, 3],\n",
       "        [3, 6, 5, 7, 6, 4],\n",
       "        [4, 4, 6, 5, 6, 7]],\n",
       "\n",
       "       [[5, 5, 6, 3, 3, 3],\n",
       "        [4, 4, 6, 4, 7, 5],\n",
       "        [4, 7, 4, 4, 5, 4],\n",
       "        [6, 5, 6, 7, 4, 7]],\n",
       "\n",
       "       [[3, 3, 5, 7, 4, 6],\n",
       "        [6, 4, 4, 5, 5, 4],\n",
       "        [3, 5, 5, 4, 6, 6],\n",
       "        [3, 7, 3, 5, 6, 3]],\n",
       "\n",
       "       [[7, 7, 3, 6, 7, 7],\n",
       "        [7, 3, 3, 3, 7, 7],\n",
       "        [3, 3, 3, 5, 7, 4],\n",
       "        [7, 3, 3, 7, 4, 4]]], dtype=int8)"
      ]
     },
     "execution_count": 112,
     "metadata": {},
     "output_type": "execute_result"
    }
   ],
   "source": [
    "#Random Integer Values\n",
    "np.random.randint(3,8,size=(5,4,6),dtype= \"int8\")"
   ]
  },
  {
   "cell_type": "code",
   "execution_count": 116,
   "id": "ae26a5a7-3bfa-4d53-9973-9a7d6cd65824",
   "metadata": {},
   "outputs": [
    {
     "data": {
      "text/plain": [
       "array([[1, 0, 0, 0, 0, 0, 0],\n",
       "       [0, 1, 0, 0, 0, 0, 0],\n",
       "       [0, 0, 1, 0, 0, 0, 0],\n",
       "       [0, 0, 0, 1, 0, 0, 0],\n",
       "       [0, 0, 0, 0, 1, 0, 0],\n",
       "       [0, 0, 0, 0, 0, 1, 0],\n",
       "       [0, 0, 0, 0, 0, 0, 1]], dtype=int8)"
      ]
     },
     "execution_count": 116,
     "metadata": {},
     "output_type": "execute_result"
    }
   ],
   "source": [
    "#make a identity matrix \n",
    "np.identity(7, dtype = \"int8\")"
   ]
  },
  {
   "cell_type": "code",
   "execution_count": 35,
   "id": "5d9b2d6a-cc4e-48e8-ba70-fdde6ffc3958",
   "metadata": {},
   "outputs": [
    {
     "data": {
      "text/plain": [
       "array([[[1, 1, 1, 1, 1, 1, 2, 2, 2, 2, 2, 2, 3, 3, 3, 3, 3, 3]]])"
      ]
     },
     "execution_count": 35,
     "metadata": {},
     "output_type": "execute_result"
    }
   ],
   "source": [
    "#Repeat an array\n",
    "arr = np.array([[[1,2,3]]])\n",
    "r1 = np.repeat(arr,6, axis=2)\n",
    "r1"
   ]
  },
  {
   "cell_type": "code",
   "execution_count": 134,
   "id": "fa9e0bff-939c-4deb-892f-478934ca9076",
   "metadata": {},
   "outputs": [
    {
     "name": "stdout",
     "output_type": "stream",
     "text": [
      "[[1. 1. 1. 1. 1. 1. 1.]\n",
      " [1. 1. 1. 1. 1. 1. 1.]\n",
      " [1. 1. 1. 1. 1. 1. 1.]\n",
      " [1. 1. 1. 1. 1. 1. 1.]\n",
      " [1. 1. 1. 1. 1. 1. 1.]\n",
      " [1. 1. 1. 1. 1. 1. 1.]\n",
      " [1. 1. 1. 1. 1. 1. 1.]]\n",
      "[[ 0.  0.  0.  0.  0.]\n",
      " [ 0.  0.  0.  0.  0.]\n",
      " [ 0.  0. 11.  0.  0.]\n",
      " [ 0.  0.  0.  0.  0.]\n",
      " [ 0.  0.  0.  0.  0.]]\n",
      "[[ 1.  1.  1.  1.  1.  1.  1.]\n",
      " [ 1.  0.  0.  0.  0.  0.  1.]\n",
      " [ 1.  0.  0.  0.  0.  0.  1.]\n",
      " [ 1.  0.  0. 11.  0.  0.  1.]\n",
      " [ 1.  0.  0.  0.  0.  0.  1.]\n",
      " [ 1.  0.  0.  0.  0.  0.  1.]\n",
      " [ 1.  1.  1.  1.  1.  1.  1.]]\n"
     ]
    }
   ],
   "source": [
    "#make matrix of your choice by some pattern\n",
    "\n",
    "matrix = np.ones((7,7))\n",
    "print(matrix)\n",
    "zeros = np.zeros((5,5))\n",
    "zeros[2,2]=11\n",
    "print(zeros)\n",
    "matrix[1:-1,1:-1]= zeros\n",
    "print(matrix)"
   ]
  },
  {
   "cell_type": "code",
   "execution_count": 135,
   "id": "0143228d-3ecb-4293-a70d-b132a6b8f3d5",
   "metadata": {},
   "outputs": [
    {
     "data": {
      "text/plain": [
       "array([1, 2, 3])"
      ]
     },
     "execution_count": 135,
     "metadata": {},
     "output_type": "execute_result"
    }
   ],
   "source": [
    "#Be careful when copying arrays\n",
    "a = np.array([1,2,3])\n",
    "b = a.copy()\n",
    "b[0] = 110\n",
    "a\n"
   ]
  },
  {
   "cell_type": "markdown",
   "id": "e374ed2b-0dd2-4e2c-b495-dd2400a615b9",
   "metadata": {},
   "source": [
    "<h1>Mathematics</h1>"
   ]
  },
  {
   "cell_type": "code",
   "execution_count": 136,
   "id": "d99ce813-1cff-4c04-8381-068c0bd81b25",
   "metadata": {},
   "outputs": [],
   "source": [
    "a= np.array([1,2,4,6,67,8,8])\n"
   ]
  },
  {
   "cell_type": "code",
   "execution_count": 137,
   "id": "3170cb75-2a91-485c-b063-9ee60379eb50",
   "metadata": {},
   "outputs": [
    {
     "data": {
      "text/plain": [
       "array([ 3,  4,  6,  8, 69, 10, 10])"
      ]
     },
     "execution_count": 137,
     "metadata": {},
     "output_type": "execute_result"
    }
   ],
   "source": [
    "a+2"
   ]
  },
  {
   "cell_type": "code",
   "execution_count": 138,
   "id": "4be9a28a-94f7-44fc-8321-aa43d6e58451",
   "metadata": {},
   "outputs": [
    {
     "data": {
      "text/plain": [
       "array([-1,  0,  2,  4, 65,  6,  6])"
      ]
     },
     "execution_count": 138,
     "metadata": {},
     "output_type": "execute_result"
    }
   ],
   "source": [
    "a-2"
   ]
  },
  {
   "cell_type": "code",
   "execution_count": 139,
   "id": "50455104-e8c0-4692-9562-2a40339d1999",
   "metadata": {},
   "outputs": [
    {
     "data": {
      "text/plain": [
       "array([ 5,  6,  8, 10, 71, 12, 12])"
      ]
     },
     "execution_count": 139,
     "metadata": {},
     "output_type": "execute_result"
    }
   ],
   "source": [
    "a+=4\n",
    "a"
   ]
  },
  {
   "cell_type": "code",
   "execution_count": 140,
   "id": "a9336be1-a8b2-431c-94b5-51716aba5abc",
   "metadata": {},
   "outputs": [
    {
     "data": {
      "text/plain": [
       "array([ 25,  30,  40,  50, 355,  60,  60])"
      ]
     },
     "execution_count": 140,
     "metadata": {},
     "output_type": "execute_result"
    }
   ],
   "source": [
    "a*5"
   ]
  },
  {
   "cell_type": "code",
   "execution_count": 141,
   "id": "5f0ea35c-bf76-4af3-92c7-24ab95b2e286",
   "metadata": {},
   "outputs": [
    {
     "data": {
      "text/plain": [
       "array([ 1.66666667,  2.        ,  2.66666667,  3.33333333, 23.66666667,\n",
       "        4.        ,  4.        ])"
      ]
     },
     "execution_count": 141,
     "metadata": {},
     "output_type": "execute_result"
    }
   ],
   "source": [
    "a/3"
   ]
  },
  {
   "cell_type": "code",
   "execution_count": 143,
   "id": "0821cf21-d1a9-4e8a-80a1-a2684d8669dd",
   "metadata": {},
   "outputs": [
    {
     "data": {
      "text/plain": [
       "array([ 7, 10, 14, 12, 76, 14, 16])"
      ]
     },
     "execution_count": 143,
     "metadata": {},
     "output_type": "execute_result"
    }
   ],
   "source": [
    "b = np.array([2,4,6,2,5,2,4])\n",
    "a+b"
   ]
  },
  {
   "cell_type": "code",
   "execution_count": 144,
   "id": "2aee16ef-6483-424d-94db-d4e0c707834b",
   "metadata": {},
   "outputs": [
    {
     "data": {
      "text/plain": [
       "array([   125,    216,    512,   1000, 357911,   1728,   1728])"
      ]
     },
     "execution_count": 144,
     "metadata": {},
     "output_type": "execute_result"
    }
   ],
   "source": [
    "a**3"
   ]
  },
  {
   "cell_type": "code",
   "execution_count": 145,
   "id": "17186a41-6441-4d53-a413-8e992f73e069",
   "metadata": {},
   "outputs": [
    {
     "data": {
      "text/plain": [
       "array([-0.95892427, -0.2794155 ,  0.98935825, -0.54402111,  0.95105465,\n",
       "       -0.53657292, -0.53657292])"
      ]
     },
     "execution_count": 145,
     "metadata": {},
     "output_type": "execute_result"
    }
   ],
   "source": [
    "#take the sin \n",
    "np.sin(a)"
   ]
  },
  {
   "cell_type": "markdown",
   "id": "ae3dffb1-341e-4484-8b7e-c3e6f7d1cce5",
   "metadata": {},
   "source": [
    "<h1>Linear Algebra</h1>"
   ]
  },
  {
   "cell_type": "code",
   "execution_count": 6,
   "id": "ecc3ef8f-07c3-4e00-8ed1-bc1d55a18557",
   "metadata": {},
   "outputs": [
    {
     "name": "stdout",
     "output_type": "stream",
     "text": [
      "[[1. 1. 1. 1. 1. 1. 1.]\n",
      " [1. 1. 1. 1. 1. 1. 1.]\n",
      " [1. 1. 1. 1. 1. 1. 1.]\n",
      " [1. 1. 1. 1. 1. 1. 1.]]\n"
     ]
    }
   ],
   "source": [
    "a = np.ones((4,7))\n",
    "print(a)"
   ]
  },
  {
   "cell_type": "code",
   "execution_count": 5,
   "id": "27f7936b-bf18-49ed-b314-e79f5b77e95b",
   "metadata": {},
   "outputs": [
    {
     "name": "stdout",
     "output_type": "stream",
     "text": [
      "[[2 2]\n",
      " [2 2]\n",
      " [2 2]\n",
      " [2 2]\n",
      " [2 2]\n",
      " [2 2]\n",
      " [2 2]]\n"
     ]
    }
   ],
   "source": [
    "b = np.full((7,2),2)\n",
    "print(b)"
   ]
  },
  {
   "cell_type": "code",
   "execution_count": 7,
   "id": "19147d8f-79f9-4548-a214-480b7d9586a6",
   "metadata": {},
   "outputs": [
    {
     "data": {
      "text/plain": [
       "array([[14., 14.],\n",
       "       [14., 14.],\n",
       "       [14., 14.],\n",
       "       [14., 14.]])"
      ]
     },
     "execution_count": 7,
     "metadata": {},
     "output_type": "execute_result"
    }
   ],
   "source": [
    "np.matmul(a,b)"
   ]
  },
  {
   "cell_type": "code",
   "execution_count": 11,
   "id": "68d8b46d-af91-424d-98b0-eba804e8f0b2",
   "metadata": {},
   "outputs": [
    {
     "data": {
      "text/plain": [
       "np.float64(1.0)"
      ]
     },
     "execution_count": 11,
     "metadata": {},
     "output_type": "execute_result"
    }
   ],
   "source": [
    "c = np.identity(3)\n",
    "np.linalg.det(c)"
   ]
  },
  {
   "cell_type": "markdown",
   "id": "c4bf05c0-fa01-475d-82de-8428f68f3dd4",
   "metadata": {},
   "source": [
    "# Statistics"
   ]
  },
  {
   "cell_type": "code",
   "execution_count": 33,
   "id": "74a97f35-6336-4775-8843-ce02c4470497",
   "metadata": {},
   "outputs": [
    {
     "data": {
      "text/plain": [
       "array([[ 1,  2],\n",
       "       [10,  6]])"
      ]
     },
     "execution_count": 33,
     "metadata": {},
     "output_type": "execute_result"
    }
   ],
   "source": [
    "stats = np.array([[[1,2],[10,9]],[[4,5],[11,6]],[[7,8],[12,6]]])\n",
    "np.min(stats, axis=0)"
   ]
  },
  {
   "cell_type": "code",
   "execution_count": 36,
   "id": "713bce33-ef15-439e-889e-de4defd8f38b",
   "metadata": {},
   "outputs": [
    {
     "data": {
      "text/plain": [
       "np.int64(12)"
      ]
     },
     "execution_count": 36,
     "metadata": {},
     "output_type": "execute_result"
    }
   ],
   "source": [
    "np.max(stats)"
   ]
  },
  {
   "cell_type": "code",
   "execution_count": 101,
   "id": "e22413f7-c192-4d7e-8edc-0fc8ce8dd8f8",
   "metadata": {},
   "outputs": [
    {
     "name": "stdout",
     "output_type": "stream",
     "text": [
      "[[2 2]\n",
      " [2 2]]\n",
      "0\n"
     ]
    }
   ],
   "source": [
    "print(stats.argmax(axis = ))\n",
    "print(stats.argmin())"
   ]
  },
  {
   "cell_type": "markdown",
   "id": "507b1b75-aad3-486a-bd0f-8c9570835814",
   "metadata": {},
   "source": [
    "# Reorganizing Arrays "
   ]
  },
  {
   "cell_type": "code",
   "execution_count": 43,
   "id": "5945203f-0f87-4816-97ac-a6fd4cc07317",
   "metadata": {},
   "outputs": [
    {
     "name": "stdout",
     "output_type": "stream",
     "text": [
      "[[1 2 3 4]\n",
      " [5 6 7 8]]\n"
     ]
    },
    {
     "data": {
      "text/plain": [
       "array([[1, 2],\n",
       "       [3, 4],\n",
       "       [5, 6],\n",
       "       [7, 8]])"
      ]
     },
     "execution_count": 43,
     "metadata": {},
     "output_type": "execute_result"
    }
   ],
   "source": [
    "arr = np.array([[1,2,3,4],[5,6,7,8]])\n",
    "print(arr)\n",
    "after = arr.reshape((4,2))\n",
    "after"
   ]
  },
  {
   "cell_type": "code",
   "execution_count": 50,
   "id": "4acc1070-11aa-4a25-976b-81b7f32f41fb",
   "metadata": {},
   "outputs": [
    {
     "data": {
      "text/plain": [
       "array([[1, 2, 3, 4],\n",
       "       [5, 6, 7, 8],\n",
       "       [5, 6, 7, 8],\n",
       "       [1, 2, 3, 4]])"
      ]
     },
     "execution_count": 50,
     "metadata": {},
     "output_type": "execute_result"
    }
   ],
   "source": [
    "#vertically stacking vectors\n",
    "v1 = np.array([1,2,3,4])\n",
    "v2 = np.array([5,6,7,8])\n",
    "a = np.vstack([v1,v2,v2,v1])\n"
   ]
  },
  {
   "cell_type": "code",
   "execution_count": 53,
   "id": "875e380e-bab2-4e3c-96d1-b05bae2d6acc",
   "metadata": {},
   "outputs": [
    {
     "data": {
      "text/plain": [
       "array([[2, 2, 2, 2, 5, 5, 5, 5, 5, 5, 5],\n",
       "       [2, 2, 2, 2, 5, 5, 5, 5, 5, 5, 5],\n",
       "       [2, 2, 2, 2, 5, 5, 5, 5, 5, 5, 5]])"
      ]
     },
     "execution_count": 53,
     "metadata": {},
     "output_type": "execute_result"
    }
   ],
   "source": [
    "#horizontal stack\n",
    "a = np.full((3,4),2)\n",
    "b = np.full((3,7),5)\n",
    "np.hstack([a,b])"
   ]
  },
  {
   "cell_type": "markdown",
   "id": "95453f58-333a-4edb-9ded-3966a3bff3f9",
   "metadata": {},
   "source": [
    "# Miscellaneous\n"
   ]
  },
  {
   "cell_type": "code",
   "execution_count": 59,
   "id": "6616a15a-9ab8-4e7a-9950-d6417082fef7",
   "metadata": {},
   "outputs": [
    {
     "data": {
      "text/plain": [
       "array([[ 1,  2,  3, 45,  6,  8,  9, 90],\n",
       "       [ 5,  7,  8,  3,  5,  7,  3,  8],\n",
       "       [ 7,  3,  7,  9,  9,  4,  4,  7]], dtype=int32)"
      ]
     },
     "execution_count": 59,
     "metadata": {},
     "output_type": "execute_result"
    }
   ],
   "source": [
    "file_text = np.genfromtxt('data.txt', delimiter= ',')\n",
    "file_text=file_text.astype(\"int32\")\n",
    "file_text"
   ]
  },
  {
   "cell_type": "markdown",
   "id": "0ace1707-ccdc-4335-90e8-42ca25d1c617",
   "metadata": {},
   "source": [
    "#Boolean Masking and Advanced Indexing"
   ]
  },
  {
   "cell_type": "code",
   "execution_count": 61,
   "id": "803142d0-a7a7-4d82-be0e-79b77b37051b",
   "metadata": {},
   "outputs": [
    {
     "data": {
      "text/plain": [
       "array([[False, False, False,  True,  True,  True,  True,  True],\n",
       "       [ True,  True,  True, False,  True,  True, False,  True],\n",
       "       [ True, False,  True,  True,  True,  True,  True,  True]])"
      ]
     },
     "execution_count": 61,
     "metadata": {},
     "output_type": "execute_result"
    }
   ],
   "source": [
    "file_text>=4"
   ]
  },
  {
   "cell_type": "code",
   "execution_count": 64,
   "id": "15fab270-35cb-4357-ba28-b0901cba17fd",
   "metadata": {},
   "outputs": [
    {
     "data": {
      "text/plain": [
       "array([ True,  True,  True,  True,  True,  True,  True,  True])"
      ]
     },
     "execution_count": 64,
     "metadata": {},
     "output_type": "execute_result"
    }
   ],
   "source": [
    "np.any(file_text>4, axis = 0)"
   ]
  },
  {
   "cell_type": "code",
   "execution_count": 65,
   "id": "37fb7547-347c-4b0c-ae1b-cd9e77b25b3d",
   "metadata": {},
   "outputs": [
    {
     "data": {
      "text/plain": [
       "array([False, False, False, False,  True, False, False,  True])"
      ]
     },
     "execution_count": 65,
     "metadata": {},
     "output_type": "execute_result"
    }
   ],
   "source": [
    "np.all(file_text>4, axis = 0)"
   ]
  },
  {
   "cell_type": "code",
   "execution_count": 69,
   "id": "be1ff219-4cd5-480e-971e-64da62af8ea0",
   "metadata": {},
   "outputs": [
    {
     "data": {
      "text/plain": [
       "array([3, 4, 7], dtype=int32)"
      ]
     },
     "execution_count": 69,
     "metadata": {},
     "output_type": "execute_result"
    }
   ],
   "source": [
    "file_text[2,[1,6,7]]"
   ]
  },
  {
   "cell_type": "code",
   "execution_count": 70,
   "id": "0b22856d-d9cb-42c5-8750-1c991ca32ded",
   "metadata": {},
   "outputs": [
    {
     "data": {
      "text/plain": [
       "array([[ True,  True,  True,  True, False,  True,  True,  True],\n",
       "       [False, False,  True,  True, False, False,  True,  True],\n",
       "       [False,  True, False,  True,  True,  True,  True, False]])"
      ]
     },
     "execution_count": 70,
     "metadata": {},
     "output_type": "execute_result"
    }
   ],
   "source": [
    "(~((file_text > 4) & (file_text < 8)))"
   ]
  },
  {
   "cell_type": "code",
   "execution_count": null,
   "id": "9cd18926-cb33-4dff-a630-a86ca81e590a",
   "metadata": {},
   "outputs": [],
   "source": []
  }
 ],
 "metadata": {
  "kernelspec": {
   "display_name": "Python 3 (ipykernel)",
   "language": "python",
   "name": "python3"
  },
  "language_info": {
   "codemirror_mode": {
    "name": "ipython",
    "version": 3
   },
   "file_extension": ".py",
   "mimetype": "text/x-python",
   "name": "python",
   "nbconvert_exporter": "python",
   "pygments_lexer": "ipython3",
   "version": "3.11.9"
  }
 },
 "nbformat": 4,
 "nbformat_minor": 5
}
